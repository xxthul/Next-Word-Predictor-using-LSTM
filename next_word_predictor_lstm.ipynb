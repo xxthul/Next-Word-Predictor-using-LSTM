{
  "nbformat": 4,
  "nbformat_minor": 0,
  "metadata": {
    "colab": {
      "provenance": [],
      "gpuType": "T4"
    },
    "kernelspec": {
      "name": "python3",
      "display_name": "Python 3"
    },
    "language_info": {
      "name": "python"
    },
    "accelerator": "GPU"
  },
  "cells": [
    {
      "cell_type": "code",
      "execution_count": null,
      "metadata": {
        "colab": {
          "base_uri": "https://localhost:8080/"
        },
        "id": "5NfcpnluzLzo",
        "outputId": "8df9b1f8-36d5-4a26-c778-4ad83624ef17"
      },
      "outputs": [
        {
          "output_type": "stream",
          "name": "stdout",
          "text": [
            "Requirement already satisfied: nltk in /usr/local/lib/python3.11/dist-packages (3.9.1)\n",
            "Requirement already satisfied: click in /usr/local/lib/python3.11/dist-packages (from nltk) (8.1.8)\n",
            "Requirement already satisfied: joblib in /usr/local/lib/python3.11/dist-packages (from nltk) (1.4.2)\n",
            "Requirement already satisfied: regex>=2021.8.3 in /usr/local/lib/python3.11/dist-packages (from nltk) (2024.11.6)\n",
            "Requirement already satisfied: tqdm in /usr/local/lib/python3.11/dist-packages (from nltk) (4.67.1)\n"
          ]
        }
      ],
      "source": [
        "!pip install nltk"
      ]
    },
    {
      "cell_type": "code",
      "source": [
        "import torch\n",
        "import torch.nn as nn\n",
        "import torch.nn.utils.prune as prune\n",
        "import torch.optim as optim\n",
        "import numpy as np\n",
        "from collections import Counter\n",
        "from torch.utils.data import Dataset, DataLoader\n",
        "from nltk.tokenize import word_tokenize\n",
        "import nltk"
      ],
      "metadata": {
        "id": "ae7dunqczT8Q"
      },
      "execution_count": null,
      "outputs": []
    },
    {
      "cell_type": "code",
      "source": [
        "import requests\n",
        "from bs4 import BeautifulSoup\n",
        "import re\n",
        "\n",
        "def fetch_data(urls):\n",
        "    \"\"\"{[1,2 3 4 5]}\n",
        "    [1,2] [1,2,3]\n",
        "    Fetch text data from multiple Wikipedia pages with each sentence on a new line.\"\"\"\n",
        "    all_sentences = []\n",
        "\n",
        "    for url in urls:\n",
        "        response = requests.get(url)\n",
        "        if response.status_code != 200:\n",
        "            print(f\"Failed to retrieve the page: {url}\")\n",
        "            continue\n",
        "\n",
        "        soup = BeautifulSoup(response.text, 'html.parser')\n",
        "        paragraphs = soup.find_all('p')\n",
        "\n",
        "        # Combine all paragraph texts and split into sentences\n",
        "        text = ' '.join([para.get_text() for para in paragraphs])\n",
        "        sentences = re.split(r'(?<=[.!?])\\s+', text)\n",
        "\n",
        "        # Filter out references like [1], [2], etc.\n",
        "        for sentence in sentences:\n",
        "            # Remove reference numbers in brackets (e.g., [1])\n",
        "            sentence = re.sub(r'\\[.*?\\]', '', sentence)\n",
        "            all_sentences.append(sentence.strip())\n",
        "\n",
        "    return '\\n'.join(all_sentences)\n",
        "\n",
        "# Example usage\n",
        "urls = [\n",
        "    'https://en.wikipedia.org/wiki/Artificial_intelligence',\n",
        "    'https://en.wikipedia.org/wiki/Machine_learning',\n",
        "    'https://en.wikipedia.org/wiki/Deep_learning',\n",
        "    'https://en.wikipedia.org/wiki/Data_science',\n",
        "    'https://en.wikipedia.org/wiki/Neural_network'\n",
        "]\n",
        "\n"
      ],
      "metadata": {
        "id": "apgvzMFP2RY9"
      },
      "execution_count": null,
      "outputs": []
    },
    {
      "cell_type": "code",
      "source": [
        "#\n",
        "document = \"\"\"{}\"\"\".format(fetch_data(urls))"
      ],
      "metadata": {
        "id": "fLwm0Y_MzVuh"
      },
      "execution_count": null,
      "outputs": []
    },
    {
      "cell_type": "code",
      "source": [
        "# Tokenization\n",
        "nltk.download('punkt')\n",
        "nltk.download('punkt_tab')"
      ],
      "metadata": {
        "colab": {
          "base_uri": "https://localhost:8080/"
        },
        "id": "MMU_RwfbzXt4",
        "outputId": "8f2d957a-4115-4efb-b208-359c65a87502"
      },
      "execution_count": null,
      "outputs": [
        {
          "output_type": "stream",
          "name": "stderr",
          "text": [
            "[nltk_data] Downloading package punkt to /root/nltk_data...\n",
            "[nltk_data]   Unzipping tokenizers/punkt.zip.\n",
            "[nltk_data] Downloading package punkt_tab to /root/nltk_data...\n",
            "[nltk_data]   Unzipping tokenizers/punkt_tab.zip.\n"
          ]
        },
        {
          "output_type": "execute_result",
          "data": {
            "text/plain": [
              "True"
            ]
          },
          "metadata": {},
          "execution_count": 5
        }
      ]
    },
    {
      "cell_type": "code",
      "source": [
        "# tokenize\n",
        "tokens = word_tokenize(document.lower())"
      ],
      "metadata": {
        "id": "t28bgAcszaHl"
      },
      "execution_count": null,
      "outputs": []
    },
    {
      "cell_type": "code",
      "source": [
        "# build vocab\n",
        "vocab = {'<unk>':0}\n",
        "\n",
        "for token in Counter(tokens).keys():\n",
        "  if token not in vocab:\n",
        "    vocab[token] = len(vocab)\n",
        "\n",
        "vocab"
      ],
      "metadata": {
        "colab": {
          "base_uri": "https://localhost:8080/"
        },
        "id": "G30GxEjgzcfY",
        "outputId": "fabc37fe-a9b3-4142-ee67-e5194d430c2e",
        "collapsed": true
      },
      "execution_count": null,
      "outputs": [
        {
          "output_type": "execute_result",
          "data": {
            "text/plain": [
              "{'<unk>': 0,\n",
              " 'artificial': 1,\n",
              " 'intelligence': 2,\n",
              " '(': 3,\n",
              " 'ai': 4,\n",
              " ')': 5,\n",
              " 'refers': 6,\n",
              " 'to': 7,\n",
              " 'the': 8,\n",
              " 'capability': 9,\n",
              " 'of': 10,\n",
              " 'computational': 11,\n",
              " 'systems': 12,\n",
              " 'perform': 13,\n",
              " 'tasks': 14,\n",
              " 'typically': 15,\n",
              " 'associated': 16,\n",
              " 'with': 17,\n",
              " 'human': 18,\n",
              " ',': 19,\n",
              " 'such': 20,\n",
              " 'as': 21,\n",
              " 'learning': 22,\n",
              " 'reasoning': 23,\n",
              " 'problem-solving': 24,\n",
              " 'perception': 25,\n",
              " 'and': 26,\n",
              " 'decision-making': 27,\n",
              " '.': 28,\n",
              " 'it': 29,\n",
              " 'is': 30,\n",
              " 'a': 31,\n",
              " 'field': 32,\n",
              " 'research': 33,\n",
              " 'in': 34,\n",
              " 'computer': 35,\n",
              " 'science': 36,\n",
              " 'that': 37,\n",
              " 'develops': 38,\n",
              " 'studies': 39,\n",
              " 'methods': 40,\n",
              " 'software': 41,\n",
              " 'enable': 42,\n",
              " 'machines': 43,\n",
              " 'perceive': 44,\n",
              " 'their': 45,\n",
              " 'environment': 46,\n",
              " 'use': 47,\n",
              " 'take': 48,\n",
              " 'actions': 49,\n",
              " 'maximize': 50,\n",
              " 'chances': 51,\n",
              " 'achieving': 52,\n",
              " 'defined': 53,\n",
              " 'goals': 54,\n",
              " 'may': 55,\n",
              " 'be': 56,\n",
              " 'called': 57,\n",
              " 'ais': 58,\n",
              " 'high-profile': 59,\n",
              " 'applications': 60,\n",
              " 'include': 61,\n",
              " 'advanced': 62,\n",
              " 'web': 63,\n",
              " 'search': 64,\n",
              " 'engines': 65,\n",
              " 'e.g.': 66,\n",
              " 'google': 67,\n",
              " ';': 68,\n",
              " 'recommendation': 69,\n",
              " 'used': 70,\n",
              " 'by': 71,\n",
              " 'youtube': 72,\n",
              " 'amazon': 73,\n",
              " 'netflix': 74,\n",
              " 'virtual': 75,\n",
              " 'assistants': 76,\n",
              " 'assistant': 77,\n",
              " 'siri': 78,\n",
              " 'alexa': 79,\n",
              " 'autonomous': 80,\n",
              " 'vehicles': 81,\n",
              " 'waymo': 82,\n",
              " 'generative': 83,\n",
              " 'creative': 84,\n",
              " 'tools': 85,\n",
              " 'chatgpt': 86,\n",
              " 'art': 87,\n",
              " 'superhuman': 88,\n",
              " 'play': 89,\n",
              " 'analysis': 90,\n",
              " 'strategy': 91,\n",
              " 'games': 92,\n",
              " 'chess': 93,\n",
              " 'go': 94,\n",
              " 'however': 95,\n",
              " 'many': 96,\n",
              " 'are': 97,\n",
              " 'not': 98,\n",
              " 'perceived': 99,\n",
              " ':': 100,\n",
              " '``': 101,\n",
              " 'lot': 102,\n",
              " 'cutting': 103,\n",
              " 'edge': 104,\n",
              " 'has': 105,\n",
              " 'filtered': 106,\n",
              " 'into': 107,\n",
              " 'general': 108,\n",
              " 'often': 109,\n",
              " 'without': 110,\n",
              " 'being': 111,\n",
              " 'because': 112,\n",
              " 'once': 113,\n",
              " 'something': 114,\n",
              " 'becomes': 115,\n",
              " 'useful': 116,\n",
              " 'enough': 117,\n",
              " 'common': 118,\n",
              " \"'s\": 119,\n",
              " 'labeled': 120,\n",
              " 'anymore': 121,\n",
              " \"''\": 122,\n",
              " 'various': 123,\n",
              " 'subfields': 124,\n",
              " 'centered': 125,\n",
              " 'around': 126,\n",
              " 'particular': 127,\n",
              " 'traditional': 128,\n",
              " 'knowledge': 129,\n",
              " 'representation': 130,\n",
              " 'planning': 131,\n",
              " 'natural': 132,\n",
              " 'language': 133,\n",
              " 'processing': 134,\n",
              " 'support': 135,\n",
              " 'for': 136,\n",
              " 'robotics': 137,\n",
              " 'intelligence—the': 138,\n",
              " 'ability': 139,\n",
              " 'complete': 140,\n",
              " 'any': 141,\n",
              " 'task': 142,\n",
              " 'performed': 143,\n",
              " 'on': 144,\n",
              " 'an': 145,\n",
              " 'at': 146,\n",
              " 'least': 147,\n",
              " 'equal': 148,\n",
              " 'level—is': 149,\n",
              " 'among': 150,\n",
              " 'long-term': 151,\n",
              " 'reach': 152,\n",
              " 'these': 153,\n",
              " 'researchers': 154,\n",
              " 'have': 155,\n",
              " 'adapted': 156,\n",
              " 'integrated': 157,\n",
              " 'wide': 158,\n",
              " 'range': 159,\n",
              " 'techniques': 160,\n",
              " 'including': 161,\n",
              " 'mathematical': 162,\n",
              " 'optimization': 163,\n",
              " 'formal': 164,\n",
              " 'logic': 165,\n",
              " 'neural': 166,\n",
              " 'networks': 167,\n",
              " 'based': 168,\n",
              " 'statistics': 169,\n",
              " 'operations': 170,\n",
              " 'economics': 171,\n",
              " 'also': 172,\n",
              " 'draws': 173,\n",
              " 'upon': 174,\n",
              " 'psychology': 175,\n",
              " 'linguistics': 176,\n",
              " 'philosophy': 177,\n",
              " 'neuroscience': 178,\n",
              " 'other': 179,\n",
              " 'fields': 180,\n",
              " 'was': 181,\n",
              " 'founded': 182,\n",
              " 'academic': 183,\n",
              " 'discipline': 184,\n",
              " '1956': 185,\n",
              " 'went': 186,\n",
              " 'through': 187,\n",
              " 'multiple': 188,\n",
              " 'cycles': 189,\n",
              " 'optimism': 190,\n",
              " 'throughout': 191,\n",
              " 'its': 192,\n",
              " 'history': 193,\n",
              " 'followed': 194,\n",
              " 'periods': 195,\n",
              " 'disappointment': 196,\n",
              " 'loss': 197,\n",
              " 'funding': 198,\n",
              " 'known': 199,\n",
              " 'winters': 200,\n",
              " 'interest': 201,\n",
              " 'vastly': 202,\n",
              " 'increased': 203,\n",
              " 'after': 204,\n",
              " '2012': 205,\n",
              " 'when': 206,\n",
              " 'deep': 207,\n",
              " 'outperformed': 208,\n",
              " 'previous': 209,\n",
              " 'this': 210,\n",
              " 'growth': 211,\n",
              " 'accelerated': 212,\n",
              " 'further': 213,\n",
              " '2017': 214,\n",
              " 'transformer': 215,\n",
              " 'architecture': 216,\n",
              " 'early': 217,\n",
              " '2020s': 218,\n",
              " 'billions': 219,\n",
              " 'dollars': 220,\n",
              " 'were': 221,\n",
              " 'invested': 222,\n",
              " 'experienced': 223,\n",
              " 'rapid': 224,\n",
              " 'ongoing': 225,\n",
              " 'progress': 226,\n",
              " 'what': 227,\n",
              " 'become': 228,\n",
              " 'boom': 229,\n",
              " 'emergence': 230,\n",
              " 'midst': 231,\n",
              " 'create': 232,\n",
              " 'modify': 233,\n",
              " 'content': 234,\n",
              " 'exposed': 235,\n",
              " 'several': 236,\n",
              " 'unintended': 237,\n",
              " 'consequences': 238,\n",
              " 'harms': 239,\n",
              " 'present': 240,\n",
              " 'raised': 241,\n",
              " 'concerns': 242,\n",
              " 'about': 243,\n",
              " 'risks': 244,\n",
              " 'effects': 245,\n",
              " 'future': 246,\n",
              " 'prompting': 247,\n",
              " 'discussions': 248,\n",
              " 'regulatory': 249,\n",
              " 'policies': 250,\n",
              " 'ensure': 251,\n",
              " 'safety': 252,\n",
              " 'benefits': 253,\n",
              " 'technology': 254,\n",
              " 'problem': 255,\n",
              " 'simulating': 256,\n",
              " 'or': 257,\n",
              " 'creating': 258,\n",
              " 'been': 259,\n",
              " 'broken': 260,\n",
              " 'subproblems': 261,\n",
              " 'consist': 262,\n",
              " 'traits': 263,\n",
              " 'capabilities': 264,\n",
              " 'expect': 265,\n",
              " 'intelligent': 266,\n",
              " 'system': 267,\n",
              " 'display': 268,\n",
              " 'described': 269,\n",
              " 'below': 270,\n",
              " 'received': 271,\n",
              " 'most': 272,\n",
              " 'attention': 273,\n",
              " 'cover': 274,\n",
              " 'scope': 275,\n",
              " 'developed': 276,\n",
              " 'algorithms': 277,\n",
              " 'imitated': 278,\n",
              " 'step-by-step': 279,\n",
              " 'humans': 280,\n",
              " 'they': 281,\n",
              " 'solve': 282,\n",
              " 'puzzles': 283,\n",
              " 'make': 284,\n",
              " 'logical': 285,\n",
              " 'deductions': 286,\n",
              " 'late': 287,\n",
              " '1980s': 288,\n",
              " '1990s': 289,\n",
              " 'dealing': 290,\n",
              " 'uncertain': 291,\n",
              " 'incomplete': 292,\n",
              " 'information': 293,\n",
              " 'employing': 294,\n",
              " 'concepts': 295,\n",
              " 'from': 296,\n",
              " 'probability': 297,\n",
              " 'insufficient': 298,\n",
              " 'solving': 299,\n",
              " 'large': 300,\n",
              " 'problems': 301,\n",
              " 'experience': 302,\n",
              " 'combinatorial': 303,\n",
              " 'explosion': 304,\n",
              " 'exponentially': 305,\n",
              " 'slower': 306,\n",
              " 'grow': 307,\n",
              " 'even': 308,\n",
              " 'rarely': 309,\n",
              " 'deduction': 310,\n",
              " 'could': 311,\n",
              " 'model': 312,\n",
              " 'using': 313,\n",
              " 'fast': 314,\n",
              " 'intuitive': 315,\n",
              " 'judgments': 316,\n",
              " 'accurate': 317,\n",
              " 'efficient': 318,\n",
              " 'unsolved': 319,\n",
              " 'engineering': 320,\n",
              " 'allow': 321,\n",
              " 'programs': 322,\n",
              " 'answer': 323,\n",
              " 'questions': 324,\n",
              " 'intelligently': 325,\n",
              " 'real-world': 326,\n",
              " 'facts': 327,\n",
              " 'representations': 328,\n",
              " 'content-based': 329,\n",
              " 'indexing': 330,\n",
              " 'retrieval': 331,\n",
              " 'scene': 332,\n",
              " 'interpretation': 333,\n",
              " 'clinical': 334,\n",
              " 'decision': 335,\n",
              " 'discovery': 336,\n",
              " 'mining': 337,\n",
              " 'interesting': 338,\n",
              " 'actionable': 339,\n",
              " 'inferences': 340,\n",
              " 'databases': 341,\n",
              " 'areas': 342,\n",
              " 'base': 343,\n",
              " 'body': 344,\n",
              " 'represented': 345,\n",
              " 'form': 346,\n",
              " 'can': 347,\n",
              " 'program': 348,\n",
              " 'ontology': 349,\n",
              " 'set': 350,\n",
              " 'objects': 351,\n",
              " 'relations': 352,\n",
              " 'properties': 353,\n",
              " 'domain': 354,\n",
              " 'bases': 355,\n",
              " 'need': 356,\n",
              " 'represent': 357,\n",
              " 'things': 358,\n",
              " 'categories': 359,\n",
              " 'between': 360,\n",
              " 'situations': 361,\n",
              " 'events': 362,\n",
              " 'states': 363,\n",
              " 'time': 364,\n",
              " 'causes': 365,\n",
              " 'we': 366,\n",
              " 'know': 367,\n",
              " 'people': 368,\n",
              " 'default': 369,\n",
              " 'assume': 370,\n",
              " 'true': 371,\n",
              " 'until': 372,\n",
              " 'told': 373,\n",
              " 'differently': 374,\n",
              " 'will': 375,\n",
              " 'remain': 376,\n",
              " 'changing': 377,\n",
              " 'aspects': 378,\n",
              " 'domains': 379,\n",
              " 'difficult': 380,\n",
              " 'breadth': 381,\n",
              " 'commonsense': 382,\n",
              " 'atomic': 383,\n",
              " 'average': 384,\n",
              " 'person': 385,\n",
              " 'knows': 386,\n",
              " 'enormous': 387,\n",
              " 'sub-symbolic': 388,\n",
              " 'much': 389,\n",
              " 'statements': 390,\n",
              " 'express': 391,\n",
              " 'verbally': 392,\n",
              " 'there': 393,\n",
              " 'difficulty': 394,\n",
              " 'acquisition': 395,\n",
              " 'obtaining': 396,\n",
              " 'agent': 397,\n",
              " 'anything': 398,\n",
              " 'perceives': 399,\n",
              " 'takes': 400,\n",
              " 'world': 401,\n",
              " 'rational': 402,\n",
              " 'preferences': 403,\n",
              " 'them': 404,\n",
              " 'happen': 405,\n",
              " 'automated': 406,\n",
              " 'specific': 407,\n",
              " 'goal': 408,\n",
              " 'preferences—there': 409,\n",
              " 'some': 410,\n",
              " 'would': 411,\n",
              " 'prefer': 412,\n",
              " 'trying': 413,\n",
              " 'avoid': 414,\n",
              " 'assigns': 415,\n",
              " 'number': 416,\n",
              " 'each': 417,\n",
              " 'situation': 418,\n",
              " 'utility': 419,\n",
              " 'measures': 420,\n",
              " 'how': 421,\n",
              " 'prefers': 422,\n",
              " 'possible': 423,\n",
              " 'action': 424,\n",
              " 'calculate': 425,\n",
              " 'expected': 426,\n",
              " 'all': 427,\n",
              " 'outcomes': 428,\n",
              " 'weighted': 429,\n",
              " 'outcome': 430,\n",
              " 'occur': 431,\n",
              " 'then': 432,\n",
              " 'choose': 433,\n",
              " 'maximum': 434,\n",
              " 'classical': 435,\n",
              " 'exactly': 436,\n",
              " 'effect': 437,\n",
              " 'certain': 438,\n",
              " 'unknown': 439,\n",
              " 'unobservable': 440,\n",
              " 'deterministic': 441,\n",
              " 'must': 442,\n",
              " 'making': 443,\n",
              " 'probabilistic': 444,\n",
              " 'guess': 445,\n",
              " 'reassess': 446,\n",
              " 'see': 447,\n",
              " 'if': 448,\n",
              " 'worked': 449,\n",
              " 'especially': 450,\n",
              " 'agents': 451,\n",
              " 'involved': 452,\n",
              " 'learned': 453,\n",
              " 'inverse': 454,\n",
              " 'reinforcement': 455,\n",
              " 'seek': 456,\n",
              " 'improve': 457,\n",
              " 'value': 458,\n",
              " 'theory': 459,\n",
              " 'weigh': 460,\n",
              " 'exploratory': 461,\n",
              " 'experimental': 462,\n",
              " 'space': 463,\n",
              " 'intractably': 464,\n",
              " 'so': 465,\n",
              " 'evaluate': 466,\n",
              " 'while': 467,\n",
              " 'markov': 468,\n",
              " 'process': 469,\n",
              " 'transition': 470,\n",
              " 'describes': 471,\n",
              " 'change': 472,\n",
              " 'state': 473,\n",
              " 'way': 474,\n",
              " 'reward': 475,\n",
              " 'function': 476,\n",
              " 'supplies': 477,\n",
              " 'cost': 478,\n",
              " 'policy': 479,\n",
              " 'associates': 480,\n",
              " 'calculated': 481,\n",
              " 'iteration': 482,\n",
              " 'heuristic': 483,\n",
              " 'game': 484,\n",
              " 'behavior': 485,\n",
              " 'interacting': 486,\n",
              " 'decisions': 487,\n",
              " 'involve': 488,\n",
              " 'machine': 489,\n",
              " 'study': 490,\n",
              " 'performance': 491,\n",
              " 'given': 492,\n",
              " 'automatically': 493,\n",
              " 'part': 494,\n",
              " 'beginning': 495,\n",
              " 'kinds': 496,\n",
              " 'unsupervised': 497,\n",
              " 'analyzes': 498,\n",
              " 'stream': 499,\n",
              " 'data': 500,\n",
              " 'finds': 501,\n",
              " 'patterns': 502,\n",
              " 'makes': 503,\n",
              " 'predictions': 504,\n",
              " 'guidance': 505,\n",
              " 'supervised': 506,\n",
              " 'requires': 507,\n",
              " 'labeling': 508,\n",
              " 'training': 509,\n",
              " 'answers': 510,\n",
              " 'comes': 511,\n",
              " 'two': 512,\n",
              " 'main': 513,\n",
              " 'varieties': 514,\n",
              " 'classification': 515,\n",
              " 'where': 516,\n",
              " 'learn': 517,\n",
              " 'predict': 518,\n",
              " 'category': 519,\n",
              " 'input': 520,\n",
              " 'belongs': 521,\n",
              " 'regression': 522,\n",
              " 'deduce': 523,\n",
              " 'numeric': 524,\n",
              " 'rewarded': 525,\n",
              " 'good': 526,\n",
              " 'responses': 527,\n",
              " 'punished': 528,\n",
              " 'bad': 529,\n",
              " 'ones': 530,\n",
              " 'learns': 531,\n",
              " 'classified': 532,\n",
              " 'transfer': 533,\n",
              " 'gained': 534,\n",
              " 'one': 535,\n",
              " 'applied': 536,\n",
              " 'new': 537,\n",
              " 'type': 538,\n",
              " 'runs': 539,\n",
              " 'inputs': 540,\n",
              " 'biologically': 541,\n",
              " 'inspired': 542,\n",
              " 'types': 543,\n",
              " 'assess': 544,\n",
              " 'learners': 545,\n",
              " 'complexity': 546,\n",
              " 'sample': 547,\n",
              " 'required': 548,\n",
              " 'notions': 549,\n",
              " 'nlp': 550,\n",
              " 'allows': 551,\n",
              " 'read': 552,\n",
              " 'write': 553,\n",
              " 'communicate': 554,\n",
              " 'languages': 555,\n",
              " 'english': 556,\n",
              " 'speech': 557,\n",
              " 'recognition': 558,\n",
              " 'synthesis': 559,\n",
              " 'translation': 560,\n",
              " 'extraction': 561,\n",
              " 'question': 562,\n",
              " 'answering': 563,\n",
              " 'work': 564,\n",
              " 'noam': 565,\n",
              " 'chomsky': 566,\n",
              " 'grammar': 567,\n",
              " 'semantic': 568,\n",
              " 'had': 569,\n",
              " 'word-sense': 570,\n",
              " 'disambiguation': 571,\n",
              " 'unless': 572,\n",
              " 'restricted': 573,\n",
              " 'small': 574,\n",
              " 'micro-worlds': 575,\n",
              " 'due': 576,\n",
              " 'sense': 577,\n",
              " 'margaret': 578,\n",
              " 'masterman': 579,\n",
              " 'believed': 580,\n",
              " 'meaning': 581,\n",
              " 'key': 582,\n",
              " 'understanding': 583,\n",
              " 'thesauri': 584,\n",
              " 'dictionaries': 585,\n",
              " 'should': 586,\n",
              " 'basis': 587,\n",
              " 'structure': 588,\n",
              " 'modern': 589,\n",
              " 'word': 590,\n",
              " 'embedding': 591,\n",
              " 'representing': 592,\n",
              " 'words': 593,\n",
              " 'vectors': 594,\n",
              " 'encoding': 595,\n",
              " 'transformers': 596,\n",
              " 'mechanism': 597,\n",
              " 'others': 598,\n",
              " '2019': 599,\n",
              " 'pre-trained': 600,\n",
              " 'gpt': 601,\n",
              " 'models': 602,\n",
              " 'began': 603,\n",
              " 'generate': 604,\n",
              " 'coherent': 605,\n",
              " 'text': 606,\n",
              " '2023': 607,\n",
              " 'able': 608,\n",
              " 'get': 609,\n",
              " 'human-level': 610,\n",
              " 'scores': 611,\n",
              " 'bar': 612,\n",
              " 'exam': 613,\n",
              " 'sat': 614,\n",
              " 'test': 615,\n",
              " 'gre': 616,\n",
              " 'sensors': 617,\n",
              " 'cameras': 618,\n",
              " 'microphones': 619,\n",
              " 'wireless': 620,\n",
              " 'signals': 621,\n",
              " 'active': 622,\n",
              " 'lidar': 623,\n",
              " 'sonar': 624,\n",
              " 'radar': 625,\n",
              " 'tactile': 626,\n",
              " 'vision': 627,\n",
              " 'analyze': 628,\n",
              " 'visual': 629,\n",
              " 'includes': 630,\n",
              " 'image': 631,\n",
              " 'facial': 632,\n",
              " 'object': 633,\n",
              " 'tracking': 634,\n",
              " 'robotic': 635,\n",
              " 'affective': 636,\n",
              " 'computing': 637,\n",
              " 'comprises': 638,\n",
              " 'recognize': 639,\n",
              " 'interpret': 640,\n",
              " 'simulate': 641,\n",
              " 'feeling': 642,\n",
              " 'emotion': 643,\n",
              " 'mood': 644,\n",
              " 'example': 645,\n",
              " 'programmed': 646,\n",
              " 'speak': 647,\n",
              " 'conversationally': 648,\n",
              " 'banter': 649,\n",
              " 'humorously': 650,\n",
              " 'appear': 651,\n",
              " 'more': 652,\n",
              " 'sensitive': 653,\n",
              " 'emotional': 654,\n",
              " 'dynamics': 655,\n",
              " 'interaction': 656,\n",
              " 'otherwise': 657,\n",
              " 'facilitate': 658,\n",
              " 'human–computer': 659,\n",
              " 'tends': 660,\n",
              " 'give': 661,\n",
              " 'naïve': 662,\n",
              " 'users': 663,\n",
              " 'unrealistic': 664,\n",
              " 'conception': 665,\n",
              " 'existing': 666,\n",
              " 'moderate': 667,\n",
              " 'successes': 668,\n",
              " 'related': 669,\n",
              " 'textual': 670,\n",
              " 'sentiment': 671,\n",
              " 'recently': 672,\n",
              " 'multimodal': 673,\n",
              " 'wherein': 674,\n",
              " 'classifies': 675,\n",
              " 'displayed': 676,\n",
              " 'videotaped': 677,\n",
              " 'subject': 678,\n",
              " 'variety': 679,\n",
              " 'versatility': 680,\n",
              " 'similar': 681,\n",
              " 'uses': 682,\n",
              " 'accomplish': 683,\n",
              " 'above': 684,\n",
              " 'searching': 685,\n",
              " 'solutions': 686,\n",
              " 'very': 687,\n",
              " 'different': 688,\n",
              " 'local': 689,\n",
              " 'searches': 690,\n",
              " 'tree': 691,\n",
              " 'try': 692,\n",
              " 'find': 693,\n",
              " 'trees': 694,\n",
              " 'subgoals': 695,\n",
              " 'attempting': 696,\n",
              " 'path': 697,\n",
              " 'target': 698,\n",
              " 'means-ends': 699,\n",
              " 'simple': 700,\n",
              " 'exhaustive': 701,\n",
              " 'sufficient': 702,\n",
              " 'places': 703,\n",
              " 'quickly': 704,\n",
              " 'grows': 705,\n",
              " 'astronomical': 706,\n",
              " 'numbers': 707,\n",
              " 'result': 708,\n",
              " 'too': 709,\n",
              " 'slow': 710,\n",
              " 'never': 711,\n",
              " 'completes': 712,\n",
              " 'heuristics': 713,\n",
              " 'rules': 714,\n",
              " 'thumb': 715,\n",
              " 'help': 716,\n",
              " 'prioritize': 717,\n",
              " 'choices': 718,\n",
              " 'likely': 719,\n",
              " 'adversarial': 720,\n",
              " 'game-playing': 721,\n",
              " 'moves': 722,\n",
              " 'countermoves': 723,\n",
              " 'looking': 724,\n",
              " 'winning': 725,\n",
              " 'position': 726,\n",
              " 'solution': 727,\n",
              " 'begins': 728,\n",
              " 'refines': 729,\n",
              " 'incrementally': 730,\n",
              " 'gradient': 731,\n",
              " 'descent': 732,\n",
              " 'optimizes': 733,\n",
              " 'numerical': 734,\n",
              " 'parameters': 735,\n",
              " 'adjusting': 736,\n",
              " 'minimize': 737,\n",
              " 'variants': 738,\n",
              " 'commonly': 739,\n",
              " 'train': 740,\n",
              " 'backpropagation': 741,\n",
              " 'algorithm': 742,\n",
              " 'another': 743,\n",
              " 'evolutionary': 744,\n",
              " 'computation': 745,\n",
              " 'which': 746,\n",
              " 'aims': 747,\n",
              " 'iteratively': 748,\n",
              " 'candidate': 749,\n",
              " 'mutating': 750,\n",
              " 'recombining': 751,\n",
              " 'selecting': 752,\n",
              " 'only': 753,\n",
              " 'fittest': 754,\n",
              " 'survive': 755,\n",
              " 'generation': 756,\n",
              " 'distributed': 757,\n",
              " 'processes': 758,\n",
              " 'coordinate': 759,\n",
              " 'via': 760,\n",
              " 'swarm': 761,\n",
              " 'popular': 762,\n",
              " 'particle': 763,\n",
              " 'bird': 764,\n",
              " 'flocking': 765,\n",
              " 'ant': 766,\n",
              " 'colony': 767,\n",
              " 'trails': 768,\n",
              " 'forms': 769,\n",
              " 'propositional': 770,\n",
              " 'operates': 771,\n",
              " 'false': 772,\n",
              " 'connectives': 773,\n",
              " 'implies': 774,\n",
              " 'predicate': 775,\n",
              " 'predicates': 776,\n",
              " 'quantifiers': 777,\n",
              " 'every': 778,\n",
              " 'x': 779,\n",
              " 'y': 780,\n",
              " 'xs': 781,\n",
              " 'ys': 782,\n",
              " 'deductive': 783,\n",
              " 'proving': 784,\n",
              " 'statement': 785,\n",
              " 'conclusion': 786,\n",
              " 'assumed': 787,\n",
              " 'premises': 788,\n",
              " 'proofs': 789,\n",
              " 'structured': 790,\n",
              " 'proof': 791,\n",
              " 'nodes': 792,\n",
              " 'labelled': 793,\n",
              " 'sentences': 794,\n",
              " 'children': 795,\n",
              " 'connected': 796,\n",
              " 'parent': 797,\n",
              " 'inference': 798,\n",
              " 'reduces': 799,\n",
              " 'whose': 800,\n",
              " 'root': 801,\n",
              " 'node': 802,\n",
              " 'leaf': 803,\n",
              " 'axioms': 804,\n",
              " 'case': 805,\n",
              " 'horn': 806,\n",
              " 'clauses': 807,\n",
              " 'forwards': 808,\n",
              " 'backwards': 809,\n",
              " 'clausal': 810,\n",
              " 'first-order': 811,\n",
              " 'resolution': 812,\n",
              " 'single': 813,\n",
              " 'axiom-free': 814,\n",
              " 'rule': 815,\n",
              " 'solved': 816,\n",
              " 'contradiction': 817,\n",
              " 'negation': 818,\n",
              " 'both': 819,\n",
              " 'clause': 820,\n",
              " 'undecidable': 821,\n",
              " 'therefore': 822,\n",
              " 'intractable': 823,\n",
              " 'backward': 824,\n",
              " 'underpins': 825,\n",
              " 'programming': 826,\n",
              " 'prolog': 827,\n",
              " 'turing': 828,\n",
              " 'moreover': 829,\n",
              " 'efficiency': 830,\n",
              " 'competitive': 831,\n",
              " 'symbolic': 832,\n",
              " 'fuzzy': 833,\n",
              " 'degree': 834,\n",
              " 'truth': 835,\n",
              " '0': 836,\n",
              " '1.': 837,\n",
              " 'handle': 838,\n",
              " 'propositions': 839,\n",
              " 'vague': 840,\n",
              " 'partially': 841,\n",
              " 'non-monotonic': 842,\n",
              " 'logics': 843,\n",
              " 'failure': 844,\n",
              " 'designed': 845,\n",
              " 'specialized': 846,\n",
              " 'versions': 847,\n",
              " 'describe': 848,\n",
              " 'complex': 849,\n",
              " 'require': 850,\n",
              " 'operate': 851,\n",
              " 'devised': 852,\n",
              " 'precise': 853,\n",
              " 'plan': 854,\n",
              " 'dynamic': 855,\n",
              " 'design': 856,\n",
              " 'bayesian': 857,\n",
              " 'tool': 858,\n",
              " 'expectation–maximization': 859,\n",
              " 'filtering': 860,\n",
              " 'prediction': 861,\n",
              " 'smoothing': 862,\n",
              " 'finding': 863,\n",
              " 'explanations': 864,\n",
              " 'streams': 865,\n",
              " 'thus': 866,\n",
              " 'helping': 867,\n",
              " 'over': 868,\n",
              " 'hidden': 869,\n",
              " 'kalman': 870,\n",
              " 'filters': 871,\n",
              " 'simplest': 872,\n",
              " 'divided': 873,\n",
              " 'classifiers': 874,\n",
              " 'shiny': 875,\n",
              " 'diamond': 876,\n",
              " 'hand': 877,\n",
              " 'controllers': 878,\n",
              " 'pick': 879,\n",
              " 'up': 880,\n",
              " 'functions': 881,\n",
              " 'pattern': 882,\n",
              " 'matching': 883,\n",
              " 'determine': 884,\n",
              " 'closest': 885,\n",
              " 'match': 886,\n",
              " 'fine-tuned': 887,\n",
              " 'chosen': 888,\n",
              " 'examples': 889,\n",
              " 'observation': 890,\n",
              " 'predefined': 891,\n",
              " 'class': 892,\n",
              " 'observations': 893,\n",
              " 'combined': 894,\n",
              " 'labels': 895,\n",
              " 'widely': 896,\n",
              " 'k-nearest': 897,\n",
              " 'neighbor': 898,\n",
              " 'analogical': 899,\n",
              " 'mid-1990s': 900,\n",
              " 'kernel': 901,\n",
              " 'vector': 902,\n",
              " 'svm': 903,\n",
              " 'displaced': 904,\n",
              " 'naive': 905,\n",
              " 'bayes': 906,\n",
              " 'classifier': 907,\n",
              " 'reportedly': 908,\n",
              " 'learner': 909,\n",
              " 'scalability': 910,\n",
              " 'network': 911,\n",
              " 'collection': 912,\n",
              " 'neurons': 913,\n",
              " 'loosely': 914,\n",
              " 'biological': 915,\n",
              " 'brain': 916,\n",
              " 'trained': 917,\n",
              " 'recognise': 918,\n",
              " 'those': 919,\n",
              " 'fresh': 920,\n",
              " 'layer': 921,\n",
              " 'output': 922,\n",
              " 'applies': 923,\n",
              " 'weight': 924,\n",
              " 'crosses': 925,\n",
              " 'specified': 926,\n",
              " 'threshold': 927,\n",
              " 'transmitted': 928,\n",
              " 'next': 929,\n",
              " '2': 930,\n",
              " 'layers': 931,\n",
              " 'weights': 932,\n",
              " 'right': 933,\n",
              " 'during': 934,\n",
              " 'technique': 935,\n",
              " 'relationships': 936,\n",
              " 'outputs': 937,\n",
              " 'feedforward': 938,\n",
              " 'signal': 939,\n",
              " 'passes': 940,\n",
              " 'direction': 941,\n",
              " 'recurrent': 942,\n",
              " 'feed': 943,\n",
              " 'back': 944,\n",
              " 'short-term': 945,\n",
              " 'memories': 946,\n",
              " 'long': 947,\n",
              " 'short': 948,\n",
              " 'term': 949,\n",
              " 'memory': 950,\n",
              " 'successful': 951,\n",
              " 'perceptrons': 952,\n",
              " 'convolutional': 953,\n",
              " 'strengthen': 954,\n",
              " 'connection': 955,\n",
              " 'close': 956,\n",
              " 'other—this': 957,\n",
              " 'important': 958,\n",
              " 'identify': 959,\n",
              " 'before': 960,\n",
              " 'progressively': 961,\n",
              " 'extract': 962,\n",
              " 'higher-level': 963,\n",
              " 'features': 964,\n",
              " 'raw': 965,\n",
              " 'lower': 966,\n",
              " 'edges': 967,\n",
              " 'higher': 968,\n",
              " 'relevant': 969,\n",
              " 'digits': 970,\n",
              " 'letters': 971,\n",
              " 'faces': 972,\n",
              " 'profoundly': 973,\n",
              " 'improved': 974,\n",
              " 'reason': 975,\n",
              " 'performs': 976,\n",
              " 'well': 977,\n",
              " '2021.': 978,\n",
              " 'sudden': 979,\n",
              " 'success': 980,\n",
              " '2012–2015': 981,\n",
              " 'did': 982,\n",
              " 'theoretical': 983,\n",
              " 'breakthrough': 984,\n",
              " 'far': 985,\n",
              " '1950s': 986,\n",
              " 'but': 987,\n",
              " 'factors': 988,\n",
              " 'incredible': 989,\n",
              " 'increase': 990,\n",
              " 'power': 991,\n",
              " 'hundred-fold': 992,\n",
              " 'speed': 993,\n",
              " 'switching': 994,\n",
              " 'gpus': 995,\n",
              " 'availability': 996,\n",
              " 'vast': 997,\n",
              " 'amounts': 998,\n",
              " 'giant': 999,\n",
              " ...}"
            ]
          },
          "metadata": {},
          "execution_count": 7
        }
      ]
    },
    {
      "cell_type": "code",
      "source": [
        "len(vocab)"
      ],
      "metadata": {
        "colab": {
          "base_uri": "https://localhost:8080/"
        },
        "id": "SOOEZ94P0dQ1",
        "outputId": "99acae4c-b3b1-4e50-b9dc-a023b937f1ec"
      },
      "execution_count": null,
      "outputs": [
        {
          "output_type": "execute_result",
          "data": {
            "text/plain": [
              "5322"
            ]
          },
          "metadata": {},
          "execution_count": 8
        }
      ]
    },
    {
      "cell_type": "code",
      "source": [
        "input_sentences = document.split('\\n')"
      ],
      "metadata": {
        "id": "RefNavJe1Cva"
      },
      "execution_count": null,
      "outputs": []
    },
    {
      "cell_type": "code",
      "source": [
        "def text_to_indices(sentence, vocab):\n",
        "\n",
        "  numerical_sentence = []\n",
        "\n",
        "  for token in sentence:\n",
        "    if token in vocab:\n",
        "      numerical_sentence.append(vocab[token])\n",
        "    else:\n",
        "      numerical_sentence.append(vocab['<unk>'])\n",
        "\n",
        "  return numerical_sentence\n"
      ],
      "metadata": {
        "id": "x52A3E1K1zjn"
      },
      "execution_count": null,
      "outputs": []
    },
    {
      "cell_type": "code",
      "source": [
        "input_numerical_sentences = []\n",
        "\n",
        "for sentence in input_sentences:\n",
        "  input_numerical_sentences.append(text_to_indices(word_tokenize(sentence.lower()), vocab))\n"
      ],
      "metadata": {
        "id": "eu66Zo3e1Wh9"
      },
      "execution_count": null,
      "outputs": []
    },
    {
      "cell_type": "code",
      "source": [
        "len(input_numerical_sentences)"
      ],
      "metadata": {
        "colab": {
          "base_uri": "https://localhost:8080/"
        },
        "id": "XxJesAQC1et3",
        "outputId": "18476e06-2393-4b6c-f5af-1fa140a305a6"
      },
      "execution_count": null,
      "outputs": [
        {
          "output_type": "execute_result",
          "data": {
            "text/plain": [
              "1136"
            ]
          },
          "metadata": {},
          "execution_count": 12
        }
      ]
    },
    {
      "cell_type": "code",
      "source": [
        "training_sequence = []\n",
        "for sentence in input_numerical_sentences:\n",
        "\n",
        "  for i in range(1, len(sentence)):\n",
        "    training_sequence.append(sentence[:i+1])"
      ],
      "metadata": {
        "id": "80rIx4aq6ele"
      },
      "execution_count": null,
      "outputs": []
    },
    {
      "cell_type": "code",
      "source": [
        "len(training_sequence)"
      ],
      "metadata": {
        "colab": {
          "base_uri": "https://localhost:8080/"
        },
        "id": "V_aGJ0fy7swk",
        "outputId": "f8326303-26d7-4831-bc85-8cb4b63957b7"
      },
      "execution_count": null,
      "outputs": [
        {
          "output_type": "execute_result",
          "data": {
            "text/plain": [
              "33853"
            ]
          },
          "metadata": {},
          "execution_count": 14
        }
      ]
    },
    {
      "cell_type": "code",
      "source": [
        "training_sequence[:5]"
      ],
      "metadata": {
        "colab": {
          "base_uri": "https://localhost:8080/"
        },
        "id": "wrFzZ4DD8Anu",
        "outputId": "44a2cac9-1ce8-408c-9fb8-355bd17024b1"
      },
      "execution_count": null,
      "outputs": [
        {
          "output_type": "execute_result",
          "data": {
            "text/plain": [
              "[[1, 2], [1, 2, 3], [1, 2, 3, 4], [1, 2, 3, 4, 5], [1, 2, 3, 4, 5, 6]]"
            ]
          },
          "metadata": {},
          "execution_count": 15
        }
      ]
    },
    {
      "cell_type": "code",
      "source": [
        "len_list = []\n",
        "\n",
        "for sequence in training_sequence:\n",
        "  len_list.append(len(sequence))\n",
        "\n",
        "longest_sentence = max(len_list)"
      ],
      "metadata": {
        "id": "q2Z_fiVZ8GRo"
      },
      "execution_count": null,
      "outputs": []
    },
    {
      "cell_type": "code",
      "source": [
        "training_sequence[0]"
      ],
      "metadata": {
        "colab": {
          "base_uri": "https://localhost:8080/"
        },
        "id": "4bIcIRd088EN",
        "outputId": "c3dbedce-162d-4710-8c4e-0a25dcea16a9"
      },
      "execution_count": null,
      "outputs": [
        {
          "output_type": "execute_result",
          "data": {
            "text/plain": [
              "[1, 2]"
            ]
          },
          "metadata": {},
          "execution_count": 17
        }
      ]
    },
    {
      "cell_type": "code",
      "source": [
        "padded_training_sequence = []\n",
        "for sequence in training_sequence:\n",
        "\n",
        "  padded_training_sequence.append([0]*(max(len_list) - len(sequence)) + sequence)"
      ],
      "metadata": {
        "id": "dtPg5uRN9Cc7"
      },
      "execution_count": null,
      "outputs": []
    },
    {
      "cell_type": "code",
      "source": [
        "len(padded_training_sequence[10])"
      ],
      "metadata": {
        "colab": {
          "base_uri": "https://localhost:8080/"
        },
        "id": "hqZssF989X-4",
        "outputId": "5b4d01d8-c5b4-434d-abd4-bfde9e3e28c3"
      },
      "execution_count": null,
      "outputs": [
        {
          "output_type": "execute_result",
          "data": {
            "text/plain": [
              "272"
            ]
          },
          "metadata": {},
          "execution_count": 19
        }
      ]
    },
    {
      "cell_type": "code",
      "source": [
        "padded_training_sequence = torch.tensor(padded_training_sequence, dtype=torch.long)"
      ],
      "metadata": {
        "id": "0_wVpepb9iE4"
      },
      "execution_count": null,
      "outputs": []
    },
    {
      "cell_type": "code",
      "source": [
        "padded_training_sequence"
      ],
      "metadata": {
        "colab": {
          "base_uri": "https://localhost:8080/"
        },
        "id": "ogKvdXa79yxV",
        "outputId": "43a5564c-f0b8-495b-b79d-6628aff259d1"
      },
      "execution_count": null,
      "outputs": [
        {
          "output_type": "execute_result",
          "data": {
            "text/plain": [
              "tensor([[   0,    0,    0,  ...,    0,    1,    2],\n",
              "        [   0,    0,    0,  ...,    1,    2,    3],\n",
              "        [   0,    0,    0,  ...,    2,    3,    4],\n",
              "        ...,\n",
              "        [   0,    0,    0,  ...,  296,   45,  915],\n",
              "        [   0,    0,    0,  ...,   45,  915, 4782],\n",
              "        [   0,    0,    0,  ...,  915, 4782,   28]])"
            ]
          },
          "metadata": {},
          "execution_count": 21
        }
      ]
    },
    {
      "cell_type": "code",
      "source": [
        "X = padded_training_sequence[:, :-1]\n",
        "y = padded_training_sequence[:,-1]"
      ],
      "metadata": {
        "id": "Tz8fwCok90m0"
      },
      "execution_count": null,
      "outputs": []
    },
    {
      "cell_type": "code",
      "source": [
        "X"
      ],
      "metadata": {
        "colab": {
          "base_uri": "https://localhost:8080/"
        },
        "id": "1Ed_PLHJ-Dgv",
        "outputId": "b4859d81-d377-4add-9f82-98923ad41b5b"
      },
      "execution_count": null,
      "outputs": [
        {
          "output_type": "execute_result",
          "data": {
            "text/plain": [
              "tensor([[   0,    0,    0,  ...,    0,    0,    1],\n",
              "        [   0,    0,    0,  ...,    0,    1,    2],\n",
              "        [   0,    0,    0,  ...,    1,    2,    3],\n",
              "        ...,\n",
              "        [   0,    0,    0,  ...,  688,  296,   45],\n",
              "        [   0,    0,    0,  ...,  296,   45,  915],\n",
              "        [   0,    0,    0,  ...,   45,  915, 4782]])"
            ]
          },
          "metadata": {},
          "execution_count": 23
        }
      ]
    },
    {
      "cell_type": "code",
      "source": [
        "y"
      ],
      "metadata": {
        "colab": {
          "base_uri": "https://localhost:8080/"
        },
        "id": "eReVrcX9-EUU",
        "outputId": "122dca37-9a61-48d9-f5ff-f91c6d69cae7"
      },
      "execution_count": null,
      "outputs": [
        {
          "output_type": "execute_result",
          "data": {
            "text/plain": [
              "tensor([   2,    3,    4,  ...,  915, 4782,   28])"
            ]
          },
          "metadata": {},
          "execution_count": 24
        }
      ]
    },
    {
      "cell_type": "code",
      "source": [
        "class CustomDataset(Dataset):\n",
        "\n",
        "  def __init__(self, X, y):\n",
        "    self.X = X\n",
        "    self.y = y\n",
        "\n",
        "  def __len__(self):\n",
        "    return self.X.shape[0]\n",
        "\n",
        "  def __getitem__(self, idx):\n",
        "    return self.X[idx], self.y[idx]"
      ],
      "metadata": {
        "id": "fR059hVd-IAf"
      },
      "execution_count": null,
      "outputs": []
    },
    {
      "cell_type": "code",
      "source": [
        "dataset = CustomDataset(X,y)"
      ],
      "metadata": {
        "id": "KLX0clQM_j9r"
      },
      "execution_count": null,
      "outputs": []
    },
    {
      "cell_type": "code",
      "source": [
        "len(dataset)"
      ],
      "metadata": {
        "colab": {
          "base_uri": "https://localhost:8080/"
        },
        "id": "uYHaeSuI_nJX",
        "outputId": "295ae636-bf55-4451-d078-dc7a1460c06c"
      },
      "execution_count": null,
      "outputs": [
        {
          "output_type": "execute_result",
          "data": {
            "text/plain": [
              "33853"
            ]
          },
          "metadata": {},
          "execution_count": 27
        }
      ]
    },
    {
      "cell_type": "code",
      "source": [
        "dataloader = DataLoader(dataset, batch_size=32, shuffle=True)"
      ],
      "metadata": {
        "id": "7ZUeD3l6_oZ3"
      },
      "execution_count": null,
      "outputs": []
    },
    {
      "cell_type": "code",
      "source": [
        "class LSTMModel(nn.Module):\n",
        "\n",
        "  def __init__(self, vocab_size):\n",
        "    super().__init__()\n",
        "    self.embedding = nn.Embedding(vocab_size, 100)\n",
        "    self.lstm = nn.LSTM(100, 150, batch_first=True)\n",
        "    self.fc = nn.Linear(150, vocab_size)\n",
        "\n",
        "  def forward(self, x):\n",
        "    embedded = self.embedding(x)\n",
        "    intermediate_hidden_states, (final_hidden_state, final_cell_state) = self.lstm(embedded)\n",
        "    output = self.fc(final_hidden_state.squeeze(0))\n",
        "    return output"
      ],
      "metadata": {
        "id": "0TEukXmWDEn8"
      },
      "execution_count": null,
      "outputs": []
    },
    {
      "cell_type": "code",
      "source": [
        "# Initialize model and device\n",
        "\n",
        "model = LSTMModel(len(vocab))\n",
        "device = torch.device(\"cuda\" if torch.cuda.is_available() else \"cpu\")\n",
        "model.to(device)"
      ],
      "metadata": {
        "id": "YcQEVc9aVgr5",
        "colab": {
          "base_uri": "https://localhost:8080/"
        },
        "outputId": "489b6b98-9d75-4c98-b5a5-9b0d7426b6b0"
      },
      "execution_count": null,
      "outputs": [
        {
          "output_type": "execute_result",
          "data": {
            "text/plain": [
              "LSTMModel(\n",
              "  (embedding): Embedding(5322, 100)\n",
              "  (lstm): LSTM(100, 150, batch_first=True)\n",
              "  (fc): Linear(in_features=150, out_features=5322, bias=True)\n",
              ")"
            ]
          },
          "metadata": {},
          "execution_count": 30
        }
      ]
    },
    {
      "cell_type": "code",
      "source": [
        "if '<pad>' not in vocab:\n",
        "    vocab['<pad>'] = len(vocab)"
      ],
      "metadata": {
        "id": "5oG1AL7IZ3XP"
      },
      "execution_count": null,
      "outputs": []
    },
    {
      "cell_type": "code",
      "source": [
        "#Define Optimizer and Loss\n",
        "epochs = 30\n",
        "learning_rate = .001\n",
        "\n",
        "criterion = nn.CrossEntropyLoss(ignore_index=vocab['<pad>'])\n",
        "optimizer = torch.optim.Adam(model.parameters(), lr=learning_rate)"
      ],
      "metadata": {
        "id": "1faORN1VYFdu"
      },
      "execution_count": null,
      "outputs": []
    },
    {
      "cell_type": "code",
      "source": [],
      "metadata": {
        "id": "58bkbDIeHesI"
      },
      "execution_count": null,
      "outputs": []
    },
    {
      "cell_type": "code",
      "source": [
        "# Before pruning - Parameter count\n",
        "print(\"Parameters before pruning:\", sum(p.numel() for p in model.parameters()))"
      ],
      "metadata": {
        "colab": {
          "base_uri": "https://localhost:8080/"
        },
        "id": "13HMBfQL093R",
        "outputId": "aaa526eb-bbfb-4359-b643-ca7f3af5407a"
      },
      "execution_count": null,
      "outputs": [
        {
          "output_type": "stream",
          "name": "stdout",
          "text": [
            "Parameters before pruning: 1487022\n"
          ]
        }
      ]
    },
    {
      "cell_type": "code",
      "source": [
        "# Pruning LSTM weights (Unstructured - based on magnitude)\n",
        "prune.l1_unstructured(module=model.lstm, name='weight_hh_l0', amount=0.3)  # Prune 30% of hidden-to-hidden weights\n",
        "prune.l1_unstructured(module=model.lstm, name='weight_ih_l0', amount=0.3)  # Prune 30% of input-to-hidden weights\n"
      ],
      "metadata": {
        "colab": {
          "base_uri": "https://localhost:8080/"
        },
        "id": "Y6ckBAyS1BIw",
        "outputId": "8f68ce8a-35c7-4758-a3dc-1c48744f0d7b"
      },
      "execution_count": null,
      "outputs": [
        {
          "output_type": "execute_result",
          "data": {
            "text/plain": [
              "LSTM(100, 150, batch_first=True)"
            ]
          },
          "metadata": {},
          "execution_count": 34
        }
      ]
    },
    {
      "cell_type": "code",
      "source": [
        "# Pruning FC layer (Structured)\n",
        "prune.ln_structured(model.fc, name='weight', amount=0.4, n=2, dim=0)  # Prune 40% of FC layer\n"
      ],
      "metadata": {
        "colab": {
          "base_uri": "https://localhost:8080/"
        },
        "id": "T0Dmjqo41Exb",
        "outputId": "d761a9aa-d038-4728-9536-78a881542642"
      },
      "execution_count": null,
      "outputs": [
        {
          "output_type": "execute_result",
          "data": {
            "text/plain": [
              "Linear(in_features=150, out_features=5322, bias=True)"
            ]
          },
          "metadata": {},
          "execution_count": 35
        }
      ]
    },
    {
      "cell_type": "code",
      "source": [
        "# Remove reparameterization to make pruning permanent\n",
        "prune.remove(model.lstm, 'weight_hh_l0')\n",
        "prune.remove(model.lstm, 'weight_ih_l0')\n",
        "prune.remove(model.fc, 'weight')"
      ],
      "metadata": {
        "colab": {
          "base_uri": "https://localhost:8080/"
        },
        "id": "QDYQDGoq1Hlz",
        "outputId": "dfdeb778-8851-4db3-8023-012a42338c7f"
      },
      "execution_count": null,
      "outputs": [
        {
          "output_type": "execute_result",
          "data": {
            "text/plain": [
              "Linear(in_features=150, out_features=5322, bias=True)"
            ]
          },
          "metadata": {},
          "execution_count": 36
        }
      ]
    },
    {
      "cell_type": "code",
      "source": [
        "# After pruning - Parameter count\n",
        "print(\"Parameters after pruning:\", sum(p.numel() for p in model.parameters()))\n",
        "print(\"Non-zero parameters after pruning:\", sum(p.nonzero().size(0) for p in model.parameters()))\n"
      ],
      "metadata": {
        "colab": {
          "base_uri": "https://localhost:8080/"
        },
        "id": "O91ohbk81KGc",
        "outputId": "0309d13e-47b9-45eb-b85c-774fbb458e3a"
      },
      "execution_count": null,
      "outputs": [
        {
          "output_type": "stream",
          "name": "stdout",
          "text": [
            "Parameters after pruning: 1487022\n",
            "Non-zero parameters after pruning: 1122672\n"
          ]
        }
      ]
    },
    {
      "cell_type": "code",
      "source": [
        "\n",
        "import matplotlib.pyplot as plt\n",
        "\n",
        "train_losses = []\n",
        "train_accuracies = []\n",
        "\n",
        "# training loop\n",
        "for epoch in range(epochs):\n",
        "    total_loss = 0\n",
        "    correct = 0\n",
        "    total = 0\n",
        "\n",
        "    for batch_x, batch_y in dataloader:\n",
        "\n",
        "        batch_x, batch_y = batch_x.to(device), batch_y.to(device)  # Moved to GPU\n",
        "\n",
        "        optimizer.zero_grad()  # Zero the gradients\n",
        "\n",
        "        output = model(batch_x)  # Forward propagation\n",
        "        loss = criterion(output, batch_y)  # Compute loss\n",
        "\n",
        "        loss.backward()  # Backward propagation\n",
        "\n",
        "        # Gradient Clipping\n",
        "        torch.nn.utils.clip_grad_norm_(model.parameters(), max_norm=1.0)\n",
        "        optimizer.step()  # Update gradients\n",
        "\n",
        "        total_loss += loss.item()\n",
        "\n",
        "        # Calculate accuracy\n",
        "        _, predicted = torch.max(output.data, 1)\n",
        "        total += batch_y.size(0)\n",
        "        correct += (predicted == batch_y).sum().item()\n",
        "\n",
        "    epoch_loss = total_loss / len(dataloader)\n",
        "    epoch_acc = correct / total\n",
        "\n",
        "    train_losses.append(epoch_loss)\n",
        "    train_accuracies.append(epoch_acc)\n",
        "\n",
        "    print(f\"Epoch: {epoch + 1}, Loss: {epoch_loss:.4f}, Accuracy: {epoch_acc:.4f}\")\n",
        "\n",
        "# Plotting\n",
        "plt.figure(figsize=(12, 5))\n",
        "\n",
        "# Loss plot\n",
        "plt.subplot(1, 2, 1)\n",
        "plt.plot(train_losses, label='Loss')\n",
        "plt.title('Loss vs Epochs')\n",
        "plt.xlabel('Epochs')\n",
        "plt.ylabel('Loss')\n",
        "plt.legend()\n",
        "\n",
        "# Accuracy plot\n",
        "plt.subplot(1, 2, 2)\n",
        "plt.plot(train_accuracies, label='Accuracy', color='orange')\n",
        "plt.title('Accuracy vs Epochs')\n",
        "plt.xlabel('Epochs')\n",
        "plt.ylabel('Accuracy')\n",
        "plt.legend()\n",
        "\n",
        "plt.show()\n"
      ],
      "metadata": {
        "colab": {
          "base_uri": "https://localhost:8080/",
          "height": 1000
        },
        "id": "vE1q9-HKANkt",
        "outputId": "49eab20b-f2bc-40be-b0b7-14334e9b47e1"
      },
      "execution_count": null,
      "outputs": [
        {
          "output_type": "stream",
          "name": "stderr",
          "text": [
            "/usr/local/lib/python3.11/dist-packages/torch/nn/modules/rnn.py:1124: UserWarning: RNN module weights are not part of single contiguous chunk of memory. This means they need to be compacted at every call, possibly greatly increasing memory usage. To compact weights again call flatten_parameters(). (Triggered internally at /pytorch/aten/src/ATen/native/cudnn/RNN.cpp:1412.)\n",
            "  result = _VF.lstm(\n"
          ]
        },
        {
          "output_type": "stream",
          "name": "stdout",
          "text": [
            "Epoch: 1, Loss: 6.6531, Accuracy: 0.0872\n",
            "Epoch: 2, Loss: 5.6919, Accuracy: 0.1501\n",
            "Epoch: 3, Loss: 5.0575, Accuracy: 0.1768\n",
            "Epoch: 4, Loss: 4.4818, Accuracy: 0.2048\n",
            "Epoch: 5, Loss: 3.9425, Accuracy: 0.2463\n",
            "Epoch: 6, Loss: 3.4416, Accuracy: 0.3071\n",
            "Epoch: 7, Loss: 2.9776, Accuracy: 0.3831\n",
            "Epoch: 8, Loss: 2.5600, Accuracy: 0.4639\n",
            "Epoch: 9, Loss: 2.1897, Accuracy: 0.5390\n",
            "Epoch: 10, Loss: 1.8641, Accuracy: 0.6116\n",
            "Epoch: 11, Loss: 1.5808, Accuracy: 0.6752\n",
            "Epoch: 12, Loss: 1.3339, Accuracy: 0.7289\n",
            "Epoch: 13, Loss: 1.1235, Accuracy: 0.7777\n",
            "Epoch: 14, Loss: 0.9417, Accuracy: 0.8203\n",
            "Epoch: 15, Loss: 0.7845, Accuracy: 0.8583\n",
            "Epoch: 16, Loss: 0.6553, Accuracy: 0.8858\n",
            "Epoch: 17, Loss: 0.5458, Accuracy: 0.9085\n",
            "Epoch: 18, Loss: 0.4576, Accuracy: 0.9256\n",
            "Epoch: 19, Loss: 0.3831, Accuracy: 0.9400\n",
            "Epoch: 20, Loss: 0.3238, Accuracy: 0.9490\n",
            "Epoch: 21, Loss: 0.2753, Accuracy: 0.9569\n",
            "Epoch: 22, Loss: 0.2391, Accuracy: 0.9620\n",
            "Epoch: 23, Loss: 0.2094, Accuracy: 0.9648\n",
            "Epoch: 24, Loss: 0.1853, Accuracy: 0.9671\n",
            "Epoch: 25, Loss: 0.1739, Accuracy: 0.9679\n",
            "Epoch: 26, Loss: 0.1639, Accuracy: 0.9688\n",
            "Epoch: 27, Loss: 0.1536, Accuracy: 0.9689\n",
            "Epoch: 28, Loss: 0.1485, Accuracy: 0.9694\n",
            "Epoch: 29, Loss: 0.1435, Accuracy: 0.9692\n",
            "Epoch: 30, Loss: 0.1414, Accuracy: 0.9690\n"
          ]
        },
        {
          "output_type": "display_data",
          "data": {
            "text/plain": [
              "<Figure size 1200x500 with 2 Axes>"
            ],
            "image/png": "[encoded data removed]"
          },
          "metadata": {}
        }
      ]
    },
    {
      "cell_type": "code",
      "source": [
        "# prediction\n",
        "\n",
        "def prediction(model, vocab, text):\n",
        "\n",
        "  # tokenize\n",
        "  tokenized_text = word_tokenize(text.lower())\n",
        "\n",
        "  # text -> numerical indices\n",
        "  numerical_text = text_to_indices(tokenized_text, vocab)\n",
        "\n",
        "  # padding\n",
        "  padded_text = torch.tensor([0] * (longest_sentence - len(numerical_text)) + numerical_text, dtype=torch.long).unsqueeze(0)\n",
        "\n",
        "  # Move input to same device as the model\n",
        "  device = next(model.parameters()).device  # Get model device\n",
        "  padded_text = padded_text.to(device)  # Move input tensor to model's device\n",
        "\n",
        "  # send to model\n",
        "  output = model(padded_text)\n",
        "\n",
        "  # predicted index\n",
        "  value, index = torch.max(output, dim=1)\n",
        "\n",
        "  # merge with text\n",
        "  return text + \" \" + list(vocab.keys())[index]\n",
        "\n"
      ],
      "metadata": {
        "id": "O9f6DkX-ZM-r"
      },
      "execution_count": null,
      "outputs": []
    },
    {
      "cell_type": "code",
      "source": [
        "print(batch_y.min(), batch_y.max())\n"
      ],
      "metadata": {
        "id": "B7DuePVfFB8t",
        "colab": {
          "base_uri": "https://localhost:8080/"
        },
        "outputId": "d3c59f32-968a-4d1f-aedf-3253d8cfa9a9"
      },
      "execution_count": null,
      "outputs": [
        {
          "output_type": "stream",
          "name": "stdout",
          "text": [
            "tensor(4, device='cuda:0') tensor(4423, device='cuda:0')\n"
          ]
        }
      ]
    },
    {
      "cell_type": "code",
      "source": [
        "prediction(model, vocab, \"These probabilistic models are versatile,\")"
      ],
      "metadata": {
        "id": "VsRgcJysbGCg",
        "colab": {
          "base_uri": "https://localhost:8080/",
          "height": 36
        },
        "outputId": "c52dd39e-8809-4cdd-d96f-f25e30e0a347"
      },
      "execution_count": null,
      "outputs": [
        {
          "output_type": "execute_result",
          "data": {
            "text/plain": [
              "'These probabilistic models are versatile, but'"
            ],
            "application/vnd.google.colaboratory.intrinsic+json": {
              "type": "string"
            }
          },
          "metadata": {},
          "execution_count": 42
        }
      ]
    },
    {
      "cell_type": "code",
      "source": [
        "import time\n",
        "\n",
        "num_tokens = 50\n",
        "input_text = \"They sometimes need a large\"\n",
        "\n",
        "for i in range(num_tokens):\n",
        "    output_text = prediction(model, vocab, input_text)\n",
        "    print(output_text)\n",
        "    input_text = output_text\n",
        "    if (output_text.strip().endswith('.')):\n",
        "        break\n",
        "    time.sleep(0.5)\n"
      ],
      "metadata": {
        "id": "t_JPACfEbNPo",
        "colab": {
          "base_uri": "https://localhost:8080/"
        },
        "outputId": "dfb8be22-66fa-4220-8882-d4fa96c34769"
      },
      "execution_count": null,
      "outputs": [
        {
          "output_type": "stream",
          "name": "stdout",
          "text": [
            "They sometimes need a large database\n",
            "They sometimes need a large database of\n",
            "They sometimes need a large database of mathematical\n",
            "They sometimes need a large database of mathematical problems\n",
            "They sometimes need a large database of mathematical problems to\n",
            "They sometimes need a large database of mathematical problems to learn\n",
            "They sometimes need a large database of mathematical problems to learn from\n",
            "They sometimes need a large database of mathematical problems to learn from ,\n",
            "They sometimes need a large database of mathematical problems to learn from , but\n",
            "They sometimes need a large database of mathematical problems to learn from , but also\n",
            "They sometimes need a large database of mathematical problems to learn from , but also methods\n",
            "They sometimes need a large database of mathematical problems to learn from , but also methods such\n",
            "They sometimes need a large database of mathematical problems to learn from , but also methods such as\n",
            "They sometimes need a large database of mathematical problems to learn from , but also methods such as supervised\n",
            "They sometimes need a large database of mathematical problems to learn from , but also methods such as supervised fine-tuning\n",
            "They sometimes need a large database of mathematical problems to learn from , but also methods such as supervised fine-tuning or\n",
            "They sometimes need a large database of mathematical problems to learn from , but also methods such as supervised fine-tuning or trained\n",
            "They sometimes need a large database of mathematical problems to learn from , but also methods such as supervised fine-tuning or trained classifiers\n",
            "They sometimes need a large database of mathematical problems to learn from , but also methods such as supervised fine-tuning or trained classifiers with\n",
            "They sometimes need a large database of mathematical problems to learn from , but also methods such as supervised fine-tuning or trained classifiers with human-annotated\n",
            "They sometimes need a large database of mathematical problems to learn from , but also methods such as supervised fine-tuning or trained classifiers with human-annotated data\n",
            "They sometimes need a large database of mathematical problems to learn from , but also methods such as supervised fine-tuning or trained classifiers with human-annotated data to\n",
            "They sometimes need a large database of mathematical problems to learn from , but also methods such as supervised fine-tuning or trained classifiers with human-annotated data to improve\n",
            "They sometimes need a large database of mathematical problems to learn from , but also methods such as supervised fine-tuning or trained classifiers with human-annotated data to improve answers\n",
            "They sometimes need a large database of mathematical problems to learn from , but also methods such as supervised fine-tuning or trained classifiers with human-annotated data to improve answers for\n",
            "They sometimes need a large database of mathematical problems to learn from , but also methods such as supervised fine-tuning or trained classifiers with human-annotated data to improve answers for new\n",
            "They sometimes need a large database of mathematical problems to learn from , but also methods such as supervised fine-tuning or trained classifiers with human-annotated data to improve answers for new problems\n",
            "They sometimes need a large database of mathematical problems to learn from , but also methods such as supervised fine-tuning or trained classifiers with human-annotated data to improve answers for new problems and\n",
            "They sometimes need a large database of mathematical problems to learn from , but also methods such as supervised fine-tuning or trained classifiers with human-annotated data to improve answers for new problems and learn\n",
            "They sometimes need a large database of mathematical problems to learn from , but also methods such as supervised fine-tuning or trained classifiers with human-annotated data to improve answers for new problems and learn from\n",
            "They sometimes need a large database of mathematical problems to learn from , but also methods such as supervised fine-tuning or trained classifiers with human-annotated data to improve answers for new problems and learn from corrections\n",
            "They sometimes need a large database of mathematical problems to learn from , but also methods such as supervised fine-tuning or trained classifiers with human-annotated data to improve answers for new problems and learn from corrections .\n"
          ]
        }
      ]
    },
    {
      "cell_type": "code",
      "source": [
        "dataloader1 = DataLoader(dataset, batch_size=32, shuffle=False)"
      ],
      "metadata": {
        "id": "JXsV4AnNXNnw"
      },
      "execution_count": null,
      "outputs": []
    },
    {
      "cell_type": "code",
      "source": [
        "# Function to calculate accuracy\n",
        "def calculate_accuracy(model, dataloader, device):\n",
        "    model.eval()  # Set the model to evaluation mode\n",
        "    correct = 0\n",
        "    total = 0\n",
        "\n",
        "    with torch.no_grad():  # No need to compute gradients\n",
        "        for batch_x, batch_y in dataloader1:\n",
        "            batch_x, batch_y = batch_x.to(device), batch_y.to(device)\n",
        "\n",
        "            # Get model predictions\n",
        "            outputs = model(batch_x)\n",
        "\n",
        "            # Get the predicted word indices\n",
        "            _, predicted = torch.max(outputs, dim=1)\n",
        "\n",
        "            # Compare with actual labels\n",
        "            correct += (predicted == batch_y).sum().item()\n",
        "            total += batch_y.size(0)\n",
        "\n",
        "    accuracy = correct / total * 100\n",
        "    return accuracy\n",
        "\n",
        "# Compute accuracy\n",
        "accuracy = calculate_accuracy(model, dataloader, device)\n",
        "print(f\"Model Accuracy: {accuracy:.2f}%\")\n"
      ],
      "metadata": {
        "id": "Py7o0rJJc5pm",
        "colab": {
          "base_uri": "https://localhost:8080/"
        },
        "outputId": "fe241ecc-01be-4ea5-b09b-77a41cfeaeca"
      },
      "execution_count": null,
      "outputs": [
        {
          "output_type": "stream",
          "name": "stdout",
          "text": [
            "Model Accuracy: 97.39%\n"
          ]
        }
      ]
    }
  ]
}